{
 "cells": [
  {
   "cell_type": "markdown",
   "id": "4277ffd8-7010-4875-bc88-029987c9440a",
   "metadata": {},
   "source": [
    "# Generative AI using Ollama"
   ]
  },
  {
   "cell_type": "markdown",
   "id": "46c0d2f3-2307-49bf-9b9a-ccd047efdcf3",
   "metadata": {
    "tags": []
   },
   "source": [
    "Open Source model running locally via Ollama"
   ]
  },
  {
   "cell_type": "markdown",
   "id": "a8f7dc54-4079-48c3-94c4-d89a2a9d1cfd",
   "metadata": {},
   "source": [
    "**Benefits:**\n",
    "1. No API charges - open-source\n",
    "2. Data doesn't leave your box\n",
    "\n",
    "**Disadvantages:**\n",
    "1. Significantly less power than Frontier Model"
   ]
  },
  {
   "cell_type": "markdown",
   "id": "4faeb1bf-afbc-479e-9c9a-83a38b3337e4",
   "metadata": {},
   "source": [
    "## Installation of Ollama\n",
    "\n",
    "Simply visit [ollama.com](https://ollama.com) and install!\n",
    "\n",
    "Once complete, the ollama server should already be running locally.  \n",
    "If you visit:  \n",
    "[http://localhost:11434/](http://localhost:11434/)\n",
    "\n",
    "You should see the message `Ollama is running`.  \n",
    "\n",
    "If not, bring up a new terminal and enter `ollama serve`  \n",
    "And in another terminal (Mac) or Powershell (Windows), enter `ollama pull llama3.2`  \n",
    "Then try [http://localhost:11434/](http://localhost:11434/) again.\n",
    "\n",
    "If Ollama is slow on your machine, try using `llama3.2:1b` as an alternative. Run `ollama pull llama3.2:1b` from a Terminal or Powershell, and change the code below from `MODEL = \"llama3.2\"` to `MODEL = \"llama3.2:1b\"`"
   ]
  },
  {
   "cell_type": "code",
   "execution_count": 1,
   "id": "6c7db3d4-2930-4f71-9e4b-cccf1428fdcd",
   "metadata": {
    "tags": []
   },
   "outputs": [],
   "source": [
    "import requests\n",
    "from bs4 import BeautifulSoup\n",
    "from IPython.display import Markdown, display"
   ]
  },
  {
   "cell_type": "code",
   "execution_count": 2,
   "id": "162b8f25-95ad-4fa5-8ff1-d06762903cf5",
   "metadata": {
    "tags": []
   },
   "outputs": [],
   "source": [
    "OLLAMA_API = \"http://localhost:11434/api/chat\"\n",
    "HEADERS = {\"Content-Type\": \"application/json\"}\n",
    "MODEL = \"llama3.2\""
   ]
  },
  {
   "cell_type": "code",
   "execution_count": 7,
   "id": "5ebb3b96-de98-4c9e-a8e9-bb1879854cee",
   "metadata": {
    "tags": []
   },
   "outputs": [],
   "source": [
    "messages = [\n",
    "    {\"role\": \"user\", \"content\": \"Describe key points of the coach in football macth strategy\"}\n",
    "]"
   ]
  },
  {
   "cell_type": "code",
   "execution_count": 8,
   "id": "b993141c-7d33-4a57-9a58-673f727f81cd",
   "metadata": {
    "tags": []
   },
   "outputs": [],
   "source": [
    "payload = {\n",
    "        \"model\": MODEL,\n",
    "        \"messages\": messages,\n",
    "        \"stream\": False\n",
    "    }"
   ]
  },
  {
   "cell_type": "code",
   "execution_count": 9,
   "id": "aa47078a-da17-4283-b4a8-31181fd2c838",
   "metadata": {
    "tags": []
   },
   "outputs": [
    {
     "name": "stdout",
     "output_type": "stream",
     "text": [
      "In football, a coach's match strategy is crucial to outmaneuvering the opponent and achieving victory. Here are some key points:\n",
      "\n",
      "1. **Opponent Analysis**: The coach must analyze the opponent's strengths, weaknesses, and tendencies to identify areas of vulnerability.\n",
      "2. **Game Plan Formation**: Based on the analysis, the coach creates a game plan that defines the team's strategy, including formation, tactics, and player positioning.\n",
      "3. **Team Strengths and Weaknesses**: The coach assesses the team's strengths and weaknesses, including player skills, experience, and physical conditioning.\n",
      "4. **Player Roles and Responsibilities**: Each player is assigned a specific role or responsibility within the game plan, ensuring that everyone knows their part in achieving success.\n",
      "5. **Tactical Flexibility**: The coach must be prepared to adapt the game plan mid-match if circumstances dictate, such as an opponent's change in strategy.\n",
      "6. **Countering Opponent's Tactics**: The coach identifies and responds to the opponent's tactics, using techniques such as fake-outs or counter-attacks.\n",
      "7. **Set Pieces**: The coach ensures that set pieces (free kicks, corners, etc.) are executed effectively to create scoring opportunities.\n",
      "8. **Defensive Strategy**: A solid defensive strategy is crucial in preventing opponent goals, including positioning, marking, and defending against specific threats.\n",
      "9. **Substitutions and Player Rotation**: The coach uses substitutions and player rotation to maintain energy levels, rest players, or introduce fresh talent to the game.\n",
      "10. **Adaptability**: The coach must be prepared to adjust the strategy mid-match based on changes in the opponent's performance or external factors such as weather conditions.\n",
      "\n",
      "Additionally, some advanced strategies include:\n",
      "\n",
      "1. **High-Pressure Defense**: Applying pressure on the opponent high up the field to win the ball back quickly.\n",
      "2. **Quick Counter-Attacks**: Using speed and agility to catch opponents off guard with swift counter-attacks.\n",
      "3. **Target Man or False 9**: Employing a target man or false 9 to hold up the ball, create space, and release other players for runs behind defense.\n",
      "\n",
      "These key points provide a foundation for understanding a coach's match strategy in football.\n"
     ]
    }
   ],
   "source": [
    "response = requests.post(OLLAMA_API, json=payload, headers=HEADERS)\n",
    "print(response.json()['message']['content'])"
   ]
  },
  {
   "cell_type": "markdown",
   "id": "c0b2cfda-6ce8-49c3-b333-64132b8b8bc2",
   "metadata": {
    "tags": []
   },
   "source": [
    "# Introducing the ollama package\n",
    "\n",
    "And now we'll do the same thing, but using the elegant ollama python package instead of a direct HTTP call.\n",
    "\n",
    "Under the hood, it's making the same call as above to the ollama server running at localhost:11434"
   ]
  },
  {
   "cell_type": "code",
   "execution_count": 10,
   "id": "3159ff0a-cf1b-4b09-944c-45050ea37ba8",
   "metadata": {
    "tags": []
   },
   "outputs": [
    {
     "name": "stdout",
     "output_type": "stream",
     "text": [
      "In football, a coach's match strategy is crucial to determine the team's chances of winning. Here are some key points:\n",
      "\n",
      "1. **Opponent Analysis**: The coach analyzes the opposing team's strengths and weaknesses, including their playing style, formation, and tactics.\n",
      "2. **Team Formation**: The coach chooses a suitable formation that suits the team's playing style and the opponent's weakness. This can be a 4-3-3, 4-2-3-1, or other variations.\n",
      "3. **Player Selection**: The coach selects the best players to start the match, taking into account their strengths and weaknesses, fitness levels, and experience against the opposing team.\n",
      "4. **Tactical Adjustments**: During the match, the coach makes tactical adjustments to respond to changes in the opponent's strategy or to exploit their weaknesses.\n",
      "5. **Marking and Pressing**: The coach decides whether to employ a high press or a low press, and which players will be used to mark specific opponents.\n",
      "6. **Target Man or Striker**: The coach chooses between using a physical target man or a pacey striker to create scoring opportunities.\n",
      "7. **Midfield Control**: The coach decides on the team's midfield approach, whether it's to dominate possession or press high up the pitch.\n",
      "8. **Defensive Strategy**: The coach prepares for different defensive scenarios, such as dealing with set pieces, corner kicks, or counter-attacks.\n",
      "9. **Set Pieces**: The coach develops a plan for set pieces, including corners, free kicks, and throw-ins, to create scoring opportunities.\n",
      "10. **Substitutions**: The coach plans their substitutions carefully, bringing on fresh legs to make an impact in the game.\n",
      "\n",
      "Some popular coaching strategies include:\n",
      "\n",
      "* **Counter-attacking**: Quick transitions from defense to offense, catching opponents off guard.\n",
      "* **Possession football**: Dominating possession and wearing down opponents through sustained pressure.\n",
      "* **Park-the-bus**: Defending deep and compactly, making it difficult for opponents to create scoring opportunities.\n",
      "\n",
      "Ultimately, the coach's match strategy is a delicate balance of art and science, requiring careful planning, analysis, and adaptation during the game.\n"
     ]
    }
   ],
   "source": [
    "import ollama\n",
    "\n",
    "response = ollama.chat(model=MODEL, messages=messages)\n",
    "print(response['message']['content'])"
   ]
  },
  {
   "cell_type": "markdown",
   "id": "54f1000a-1a20-46fb-95bf-8744154d31fe",
   "metadata": {},
   "source": [
    "## Conclusion"
   ]
  },
  {
   "cell_type": "markdown",
   "id": "166f9ad0-81a9-4f27-97c0-5e03d76b9190",
   "metadata": {},
   "source": [
    "Both the API approach and the local Ollama setup provide the same functionality in terms of interacting with Ollama models. However, using the Ollama Python package, rather than making direct HTTP calls, offers a more elegant and streamlined solution. The Python package simplifies the process by abstracting away the complexity of handling raw HTTP requests, making the code cleaner, more readable, and easier to maintain. "
   ]
  },
  {
   "cell_type": "code",
   "execution_count": null,
   "id": "27f2a407-ca69-4f4d-8c62-cf2af2bbb882",
   "metadata": {},
   "outputs": [],
   "source": []
  }
 ],
 "metadata": {
  "kernelspec": {
   "display_name": "Python 3 (ipykernel)",
   "language": "python",
   "name": "python3"
  },
  "language_info": {
   "codemirror_mode": {
    "name": "ipython",
    "version": 3
   },
   "file_extension": ".py",
   "mimetype": "text/x-python",
   "name": "python",
   "nbconvert_exporter": "python",
   "pygments_lexer": "ipython3",
   "version": "3.11.5"
  }
 },
 "nbformat": 4,
 "nbformat_minor": 5
}
