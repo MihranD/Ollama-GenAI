{
 "cells": [
  {
   "cell_type": "markdown",
   "id": "4277ffd8-7010-4875-bc88-029987c9440a",
   "metadata": {},
   "source": [
    "# Generative AI using Ollama"
   ]
  },
  {
   "cell_type": "markdown",
   "id": "46c0d2f3-2307-49bf-9b9a-ccd047efdcf3",
   "metadata": {
    "tags": []
   },
   "source": [
    "Open Source model running locally via Ollama"
   ]
  },
  {
   "cell_type": "markdown",
   "id": "a8f7dc54-4079-48c3-94c4-d89a2a9d1cfd",
   "metadata": {},
   "source": [
    "**Benefits:**\n",
    "1. No API charges - open-source\n",
    "2. Data doesn't leave your box\n",
    "\n",
    "**Disadvantages:**\n",
    "1. Significantly less power than Frontier Model"
   ]
  },
  {
   "cell_type": "markdown",
   "id": "4faeb1bf-afbc-479e-9c9a-83a38b3337e4",
   "metadata": {},
   "source": [
    "## Installation of Ollama\n",
    "\n",
    "Simply visit [ollama.com](https://ollama.com) and install!\n",
    "\n",
    "Once complete, the ollama server should already be running locally.  \n",
    "If you visit:  \n",
    "[http://localhost:11434/](http://localhost:11434/)\n",
    "\n",
    "You should see the message `Ollama is running`.  \n",
    "\n",
    "If not, bring up a new terminal and enter `ollama serve`  \n",
    "And in another terminal (Mac) or Powershell (Windows), enter `ollama pull llama3.2`  \n",
    "Then try [http://localhost:11434/](http://localhost:11434/) again.\n",
    "\n",
    "If Ollama is slow on your machine, try using `llama3.2:1b` as an alternative. Run `ollama pull llama3.2:1b` from a Terminal or Powershell, and change the code below from `MODEL = \"llama3.2\"` to `MODEL = \"llama3.2:1b\"`"
   ]
  },
  {
   "cell_type": "code",
   "execution_count": 1,
   "id": "6c7db3d4-2930-4f71-9e4b-cccf1428fdcd",
   "metadata": {
    "tags": []
   },
   "outputs": [],
   "source": [
    "import requests\n",
    "from bs4 import BeautifulSoup\n",
    "from IPython.display import Markdown, display"
   ]
  },
  {
   "cell_type": "code",
   "execution_count": 2,
   "id": "162b8f25-95ad-4fa5-8ff1-d06762903cf5",
   "metadata": {
    "tags": []
   },
   "outputs": [],
   "source": [
    "OLLAMA_API = \"http://localhost:11434/api/chat\"\n",
    "HEADERS = {\"Content-Type\": \"application/json\"}\n",
    "MODEL = \"llama3.2\""
   ]
  },
  {
   "cell_type": "code",
   "execution_count": 3,
   "id": "5ebb3b96-de98-4c9e-a8e9-bb1879854cee",
   "metadata": {
    "tags": []
   },
   "outputs": [],
   "source": [
    "messages = [\n",
    "    {\"role\": \"user\", \"content\": \"Describe some of the business applications of Generative AI\"}\n",
    "]"
   ]
  },
  {
   "cell_type": "code",
   "execution_count": 4,
   "id": "b993141c-7d33-4a57-9a58-673f727f81cd",
   "metadata": {
    "tags": []
   },
   "outputs": [],
   "source": [
    "payload = {\n",
    "        \"model\": MODEL,\n",
    "        \"messages\": messages,\n",
    "        \"stream\": False\n",
    "    }"
   ]
  },
  {
   "cell_type": "code",
   "execution_count": 5,
   "id": "aa47078a-da17-4283-b4a8-31181fd2c838",
   "metadata": {
    "tags": []
   },
   "outputs": [
    {
     "name": "stdout",
     "output_type": "stream",
     "text": [
      "Generative AI (Generative Artificial Intelligence) has numerous business applications across various industries, including:\n",
      "\n",
      "1. **Content Generation**: Generate high-quality content such as articles, social media posts, product descriptions, and more. This can save time and resources for content creators and marketers.\n",
      "2. **Image and Video Generation**: Create custom images and videos for marketing campaigns, advertisements, and other visual materials.\n",
      "3. **Data Augmentation**: Use generative AI to augment existing data sets with new, high-quality data that can be used for training machine learning models.\n",
      "4. **Product Design and Development**: Generate 2D and 3D designs for products, such as furniture, electronics, or automotive components.\n",
      "5. **Personalization**: Create personalized content and experiences for customers based on their preferences, behavior, and demographics.\n",
      "6. **Chatbots and Virtual Assistants**: Develop conversational AI models that can understand and respond to customer inquiries, providing a more human-like experience.\n",
      "7. **Music and Audio Generation**: Generate music, sound effects, and audio tracks for various applications, such as video games, film scores, or advertisements.\n",
      "8. **Language Translation**: Create machine learning models that can translate languages in real-time, enabling businesses to communicate with customers across language barriers.\n",
      "9. **Automated Report Writing**: Generate reports on sales performance, customer behavior, and other business metrics using natural language processing (NLP) techniques.\n",
      "10. **Innovation and Idea Generation**: Use generative AI to generate new ideas for products, services, or marketing campaigns based on existing data and trends.\n",
      "\n",
      "Industry-specific applications:\n",
      "\n",
      "1. **Healthcare**: Generate medical images, create personalized treatment plans, and develop predictive models for disease diagnosis and patient outcomes.\n",
      "2. **Finance**: Develop automated trading strategies, generate financial reports, and create personalized investment recommendations.\n",
      "3. **Retail**: Create personalized product recommendations, generate social media content, and optimize supply chain operations.\n",
      "4. **Education**: Develop adaptive learning systems, generate educational content, and create personalized learning plans.\n",
      "5. **Manufacturing**: Optimize production processes, generate predictive models for equipment failure, and create customized product designs.\n",
      "\n",
      "These are just a few examples of the many business applications of generative AI. As the technology continues to evolve, we can expect to see even more innovative uses across various industries.\n"
     ]
    }
   ],
   "source": [
    "response = requests.post(OLLAMA_API, json=payload, headers=HEADERS)\n",
    "print(response.json()['message']['content'])"
   ]
  },
  {
   "cell_type": "markdown",
   "id": "c0b2cfda-6ce8-49c3-b333-64132b8b8bc2",
   "metadata": {
    "tags": []
   },
   "source": [
    "# Introducing the ollama package\n",
    "\n",
    "And now we'll do the same thing, but using the elegant ollama python package instead of a direct HTTP call.\n",
    "\n",
    "Under the hood, it's making the same call as above to the ollama server running at localhost:11434"
   ]
  },
  {
   "cell_type": "code",
   "execution_count": 6,
   "id": "3159ff0a-cf1b-4b09-944c-45050ea37ba8",
   "metadata": {
    "tags": []
   },
   "outputs": [
    {
     "name": "stdout",
     "output_type": "stream",
     "text": [
      "Generative AI has numerous business applications across various industries, including:\n",
      "\n",
      "1. **Content Creation**: Generative AI can be used to create personalized content, such as articles, social media posts, and product descriptions, using large datasets and natural language processing (NLP) algorithms.\n",
      "2. **Product Design and Development**: Generative AI can aid in the design of new products, such as smartphones, cars, or furniture, by generating 3D models, prototypes, and even entire product lines.\n",
      "3. **Marketing Automation**: Generative AI can be used to create personalized marketing campaigns, including email subject lines, ad copy, and social media posts, based on customer behavior and preferences.\n",
      "4. **Image and Video Generation**: Generative AI can generate high-quality images and videos for advertising, product visualization, and other visual content needs.\n",
      "5. **Music and Audio Generation**: Generative AI can create original music compositions, sound effects, and even entire audio tracks for films, TV shows, or video games.\n",
      "6. **Customer Service Chatbots**: Generative AI can power chatbots that provide personalized customer support, answer frequently asked questions, and route complex issues to human representatives.\n",
      "7. **Predictive Maintenance**: Generative AI can analyze sensor data from equipment and predict when maintenance is required, reducing downtime and improving overall efficiency.\n",
      "8. **Supply Chain Optimization**: Generative AI can help optimize supply chain operations by predicting demand, identifying bottlenecks, and suggesting efficient logistics routes.\n",
      "9. **Financial Analysis**: Generative AI can analyze large datasets to identify patterns, trends, and insights that inform investment decisions, risk assessment, and portfolio optimization.\n",
      "10. **Data Enrichment**: Generative AI can be used to enrich existing data with missing values, missing features, or new attributes, improving the accuracy of machine learning models and business intelligence applications.\n",
      "\n",
      "Some specific examples of businesses that are leveraging Generative AI include:\n",
      "\n",
      "* Amazon using generative AI to create personalized product recommendations\n",
      "* Nike using generative AI to design new products and prototypes\n",
      "* IBM using generative AI to generate personalized customer service chatbot responses\n",
      "* Netflix using generative AI to recommend content based on user behavior\n",
      "* Siemens using generative AI to optimize supply chain operations\n",
      "\n",
      "These are just a few examples of the many business applications of Generative AI. As the technology continues to evolve, we can expect to see even more innovative uses across various industries.\n"
     ]
    }
   ],
   "source": [
    "import ollama\n",
    "\n",
    "response = ollama.chat(model=MODEL, messages=messages)\n",
    "print(response['message']['content'])"
   ]
  },
  {
   "cell_type": "markdown",
   "id": "54f1000a-1a20-46fb-95bf-8744154d31fe",
   "metadata": {},
   "source": [
    "## Conclusion"
   ]
  },
  {
   "cell_type": "markdown",
   "id": "166f9ad0-81a9-4f27-97c0-5e03d76b9190",
   "metadata": {},
   "source": [
    "Both the API approach and the local Ollama setup provide the same functionality in terms of interacting with Ollama models. However, using the Ollama Python package, rather than making direct HTTP calls, offers a more elegant and streamlined solution. The Python package simplifies the process by abstracting away the complexity of handling raw HTTP requests, making the code cleaner, more readable, and easier to maintain."
   ]
  },
  {
   "cell_type": "code",
   "execution_count": null,
   "id": "27f2a407-ca69-4f4d-8c62-cf2af2bbb882",
   "metadata": {},
   "outputs": [],
   "source": []
  }
 ],
 "metadata": {
  "kernelspec": {
   "display_name": "Python 3 (ipykernel)",
   "language": "python",
   "name": "python3"
  },
  "language_info": {
   "codemirror_mode": {
    "name": "ipython",
    "version": 3
   },
   "file_extension": ".py",
   "mimetype": "text/x-python",
   "name": "python",
   "nbconvert_exporter": "python",
   "pygments_lexer": "ipython3",
   "version": "3.11.5"
  }
 },
 "nbformat": 4,
 "nbformat_minor": 5
}
